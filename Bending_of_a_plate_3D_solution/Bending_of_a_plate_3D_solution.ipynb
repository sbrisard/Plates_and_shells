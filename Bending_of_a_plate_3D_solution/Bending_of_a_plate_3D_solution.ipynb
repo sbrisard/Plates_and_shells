{
 "cells": [
  {
   "cell_type": "markdown",
   "id": "b01ccb3c-4586-4610-84f8-376c8b919b60",
   "metadata": {},
   "source": [
    "“Bending of a plate of arbitrary shape, supported along its boundary (3D solution)” © 2022 by Sébastien Brisard is licensed under [CC BY 4.0](http://creativecommons.org/licenses/by/4.0/?ref=chooser-v1)."
   ]
  },
  {
   "cell_type": "markdown",
   "id": "86181c19-24f0-4f51-9a9d-928c90ba1231",
   "metadata": {
    "tags": []
   },
   "source": [
    "# Bending of a plate of arbitrary shape, supported along its boundary (3D solution)\n",
    "\n",
    "This notebook introduces a closed-form solution to the problem of the bending of a plane of constant thickness $h$ and arbitrary shape $\\Sigma$ (reference surface $z = 0$). This solution extends the classical Navier solution for thin plates (see e.g. Timoshenko and Gere, *Theory of Plates and Shells*, §27). To the best of my knowledge, this solution was first introduced by Galerkin (Elastic Rectangular and Triangular Simply-Supported Thick Plates, Subjected to Bending, Reports of the Academy of Sciences of the USSR, Series A, 1931). It was rediscovered many times, see Batista (2012, [DOI:10.1007/s11012-011-9431-3](https://doi.org/10.1007/s11012-011-9431-3)) for an historical overview. The present derivation is based on the paper by Levinson (1985, [DOI:10.1007/BF00041426](https://doi.org/10.1007/BF00041426)).\n",
    "\n",
    " \n",
    "We consider a plate occupying the domain $\\Sigma \\times (-h/2, h/2)$, where $\\Sigma \\subset \\mathbb R^2$ is the *reference surface* of the place. The plate is supported at its boundary\n",
    "\n",
    "<a id=\"eq-BC-I\"></a>\n",
    "\\begin{equation}\n",
    "\\tag{BC-I}\n",
    "u_z(x, y, z) = 0 \\quad \\text{for all} \\quad (x, y) \\in \\partial\\Sigma \\quad \\text{and} \\quad -h/2 \\leq z \\leq h/2.\n",
    "\\end{equation}\n",
    "\n",
    "A surface load $\\tfrac{1}{2}p(x, y) \\, \\mathbf{e}_z$ is applied to the upper and lower faces\n",
    "\n",
    "\\begin{equation*}\n",
    "\\left\\{\n",
    "\\begin{gathered}\n",
    "\\sigma_{xz}(x, y, \\pm h/2) = \\sigma_{yz}(x, y, \\pm h/2) = 0\\\\\n",
    "\\sigma_{zz}(x, y, \\pm h/2) = \\pm p/2\n",
    "\\end{gathered}\n",
    "\\right.\n",
    "\\quad \\text{for all} \\quad (x, y) \\in \\Sigma.\n",
    "\\end{equation*}\n",
    "\n",
    "These boundary conditions are written in the following, more convenient form\n",
    "\n",
    "<a id=\"eq-BC-II\"></a><a id=\"eq-BC-III\"></a><a id=\"eq-BC-IV\"></a><a id=\"eq-BC-V\"></a>\n",
    "\\begin{gather}\n",
    "\\sigma_{xz}(x, y, \\pm h/2) = 0 \\tag{BC-II}\\\\\n",
    "\\sigma_{yz}(x, y, \\pm h/2) = 0 \\tag{BC-III}\\\\\n",
    "\\sigma_{zz}(x, y, -h/2) + \\sigma_{zz}(x, y, +h/2) = 0 \\tag{BC-IV}\\\\\n",
    "\\sigma_{zz}(x, y, -h/2) - \\sigma_{zz}(x, y, +h/2) = p \\tag{BC-V}\\\\\n",
    "\\end{gather}\n",
    "\n",
    "Note that, in its present form, the problem is *ill-posed*. Indeed, some boundary conditions are missing on the lateral surface. More precisely, at each point of the lateral surface, the following quantities remain to be specified\n",
    "\n",
    "\\begin{equation*}\n",
    "\\bigl[ \\bigl( \\mathbf{t} \\cdot \\mathbf{u} \\bigr) \\quad \\text{or} \\quad \\bigl( \\mathbf{t} \\cdot \\mathbf{\\sigma} \\cdot \\mathbf{g} \\bigr) \\bigr] \\quad \\text{and} \\quad \\bigl[ \\bigl( \\mathbf{g} \\cdot \\mathbf{u} \\bigr) \\quad \\text{or} \\quad \\bigl( \\mathbf{g} \\cdot \\mathbf{\\sigma} \\cdot \\mathbf{g} \\bigr) \\bigr],\n",
    "\\end{equation*}\n",
    "\n",
    "where $\\mathbf{t}$ and $\\mathbf{g}$ denote the unit tangent and unit outer normal to $\\partial\\Sigma$, such that $\\mathbf{t} = \\mathbf{e}_z \\times \\mathbf{g}$.\n",
    "\n",
    "Since the problem is ill-posed, we will seek a *particular solution*, rather than *the solution*. More precisely, the particular solution is seeked under the following form\n",
    "\n",
    "<a id=\"eq-DISPL-I\"></a>\n",
    "\\begin{equation}\n",
    "\\tag{DISPL-I}\n",
    "\\mathbf{u} = -g(z) \\, \\operatorname{\\mathbf{grad}} w(x, y) + f(z) \\, w(x, y) \\, \\mathbf{e}_z,\n",
    "\\end{equation}\n",
    "\n",
    "where $f$ and $g$ are two unknown functions of $z$ only, while $w$ is an unknown function of $x$ and $y$. With no loss of generality, it will be assumed that $f(0) = 1$ ($w$ is the deflection of the points of the reference surface $\\Sigma$). It will be shown that, $p$ being given, there is at most one solution of the above form.\n",
    "\n",
    "Owing to [(BC-I)](#eq-BC-I), the following Dirichlet boundary condition holds for $w$\n",
    "\n",
    "\\begin{equation}\n",
    "\\tag{BC-V}\n",
    "w \\lvert \\partial \\Sigma = 0.\n",
    "\\end{equation}\n",
    "\n",
    "Note that the above equation implies that $\\operatorname{\\mathbf{grad}} w \\cdot \\mathbf{t} = 0$ at the boundary $\\partial \\Sigma$. From [(DISPL-I)](#eq-DISPL-I) it is found that $\\mathbf{u} \\cdot \\mathbf{t} = 0$: the horizontal displacements along the boundary are prevented. From the point of view of the plate, this boundary condition means that rotations about $\\mathbf{g}$ (normal vector) are prevented.\n",
    "\n",
    "Therefore, for the particular solution Eq. [(DISPL-I)](#eq-DISPL-I) under consideration, the only boundary condition that is still not specified is $( \\mathbf{g} \\cdot \\mathbf{u} )$ or $( \\mathbf{g} \\cdot \\mathbf{\\sigma} \\cdot \\mathbf{g} )$. This boundary will be identified at the end of the derivation."
   ]
  },
  {
   "cell_type": "markdown",
   "id": "888a3207-a5a7-493c-87d0-21ee40f4ab80",
   "metadata": {},
   "source": [
    "## Summary of the solution\n",
    "\n",
    "We find a unique solution of the form [(DISP-I)](#eq-DISP-I), provided that $p$ is an eigenmode of $\\Delta$ with Dirichlet boundary conditions,\n",
    "\n",
    "\\begin{equation*}\n",
    "\\Delta p = -\\gamma^2 p \\quad \\text{and} \\quad p \\rvert_{\\partial\\Sigma} = 0.\n",
    "\\end{equation*}\n",
    "\n",
    "Let $\\eta = \\gamma h / 2$. Then $w$ is proportional to $p$,\n",
    "\n",
    "\\begin{equation*}\n",
    "  w(x, y) =  \\frac{\\eta \\sinh \\eta + 2 \\bigl( 1 - \\nu \\bigr) \\cosh \\eta}{4G \\gamma\\bigl( \\sinh \\eta \\cosh \\eta - \\eta \\bigr)} p(x, y),\n",
    "\\end{equation*}\n",
    "\n",
    "while $f$ and $g$ are defined by the following expressions\n",
    "\n",
    "\\begin{align*}\n",
    "f(z) &= \\cosh \\gamma z + F_4 \\, \\gamma z \\sinh \\gamma z,\\\\\n",
    "g(z) &= G_2 \\sinh \\gamma z + G_3 \\, \\gamma z \\cosh \\gamma z,\n",
    "\\end{align*}\n",
    "\n",
    "with\n",
    "\n",
    "\\begin{equation*}\n",
    "F_4=-\\frac{\\cosh \\eta}{\\eta \\sinh \\eta + 2 (1 - ν) \\cosh \\eta}, \\quad \\gamma G_2 = -1 - \\bigl(3 - 4\\nu\\bigr) F_4 \\quad \\text{and} \\quad \\gamma G_3 = -F_4.\n",
    "\\end{equation*}\n",
    "\n",
    "For slender plates, $\\eta\\to 0$ and\n",
    "\n",
    "\\begin{equation*}\n",
    "w \\simeq \\frac{3 \\bigl( 1 - \\nu \\bigr)}{4G \\gamma \\eta^3} p = \\frac{p}{D \\gamma^4}, \\quad \\text{with} \\quad D = \\frac{Eh^3}{12 \\bigl( 1 - \\nu^2 \\bigr)}.\n",
    "\\end{equation*}"
   ]
  },
  {
   "cell_type": "markdown",
   "id": "69e33f6b-dfb8-4f06-b4e6-f272be630512",
   "metadata": {},
   "source": [
    "## The general case: arbitrary load\n",
    "\n",
    "In order to address the case when $p$ is *not* an eigenmode, we introduce the eigenmodes $\\Upsilon_n$ of $\\Delta$\n",
    "\n",
    "\\begin{equation*}\n",
    "\\Delta \\Upsilon_n = -\\gamma_n^2 \\Upsilon_n \\quad \\text{and} \\quad \\Upsilon_n \\rvert_{\\partial\\Sigma} = 0.\n",
    "\\end{equation*}\n",
    "\n",
    "Then, the loading $p$ can be expanded as follows\n",
    "\n",
    "\\begin{equation*}\n",
    "p(x, y) = \\sum_{n=0}^{+\\infty} p_n \\, \\Upsilon_n(x, y)\n",
    "\\end{equation*}\n",
    "\n",
    "and a solution is constructed similarly\n",
    "\n",
    "\\begin{equation*}\n",
    "\\mathbf{u}(x, y) = \\sum_{n=0}^{+\\infty} \\bigl[-g_n(z) \\, \\operatorname{\\mathbf{grad}} w_n(x, y) + f_n(z) \\, w_n(x, y) \\, \\mathbf{e}_z \\bigr]\\, \\Upsilon_n(x, y).\n",
    "\\end{equation*}\n",
    "\n",
    "In particular, the deflection of the mid-plane reads\n",
    "\n",
    "\\begin{equation*}\n",
    "w(x, y) = \\sum_{n=0}^{+\\infty} \\frac{\\eta_n \\sinh \\eta_n + 2 \\bigl( 1 - \\nu \\bigr) \\cosh \\eta_n}{4G \\gamma_n\\bigl( \\sinh \\eta_n \\cosh \\eta_n - \\eta_n \\bigr)} p_n \\, \\Upsilon(x, y), \\quad \\text{with} \\quad \\eta_n = \\frac{\\gamma_n h}{2}.\n",
    "\\end{equation*}\n",
    "\n",
    "For slender plates, we have\n",
    "\n",
    "\\begin{equation*}\n",
    "w = \\sum_{n=0}^{+\\infty}\\frac{p_n}{D \\gamma_n^4} \\Upsilon_n.\n",
    "\\end{equation*}\n",
    "\n",
    "Since $\\Upsilon_n$ is an eigenmode of $\\Delta$, we find successively\n",
    "\n",
    "\\begin{equation*}\n",
    "D \\, \\Delta w = - \\sum_{n=0}^{+\\infty}\\frac{p_n}{\\gamma_n^2} \\Upsilon_n \\quad \\text{and} \\quad \n",
    "D \\, \\Delta^2 w = \\sum_{n=0}^{+\\infty} p_n \\Upsilon_n = p.\n",
    "\\end{equation*}\n",
    "\n",
    "In other words, the deflection of the mid-plane satisfies the plate equation\n",
    "\n",
    "\\begin{equation*}\n",
    "\\Delta^2 w = \\frac{p}{D}.\n",
    "\\end{equation*}"
   ]
  },
  {
   "cell_type": "markdown",
   "id": "d4957799-be76-44bf-892a-11b768883031",
   "metadata": {},
   "source": [
    "The above results will be derived in the remainder of this notebook."
   ]
  },
  {
   "cell_type": "markdown",
   "id": "7c267457-e035-4061-84f1-d31103d728e7",
   "metadata": {
    "tags": []
   },
   "source": [
    "## Preliminaries\n",
    "\n",
    "All derivations are to be carried out in Cartesian coordinates; we will use the [SymPy](https://www.sympy.org/) library and its Julia interface, [SymPy.jl](https://github.com/JuliaPy/SymPy.jl). We first need to define the classical differential operators, as well as the strain-displacement and stress-strain operators."
   ]
  },
  {
   "cell_type": "code",
   "execution_count": 1,
   "id": "85096853-ff2c-4d7d-9c12-af2d31d86446",
   "metadata": {},
   "outputs": [],
   "source": [
    "using LinearAlgebra\n",
    "using SymPy"
   ]
  },
  {
   "cell_type": "code",
   "execution_count": 2,
   "id": "5ac0bfd2-1794-4213-820c-c6c8e5e90d78",
   "metadata": {},
   "outputs": [],
   "source": [
    "@syms x, y, z, G, ν\n",
    "\n",
    "grad(f) = [diff(f, x), diff(f, y), diff(f, z)]\n",
    "div(v) = diff(v[1], x) + diff(v[2], y) + diff(v[3], z)\n",
    "Δ(f) = diff(f, x, x) + diff(f, y, y) + diff(f, z, z)\n",
    "\n",
    "function sym_grad(v)\n",
    "    e = Array{Sym}(undef, 3, 3)\n",
    "    e[1, 1] = diff(v[1], x)\n",
    "    e[2, 2] = diff(v[2], y)\n",
    "    e[3, 3] = diff(v[3], z)\n",
    "    e[1, 2] = e[2, 1] = (diff(v[1], y) + diff(v[2], x)) / 2\n",
    "    e[2, 3] = e[3, 2] = (diff(v[2], z) + diff(v[3], y)) / 2\n",
    "    e[3, 1] = e[1, 3] = (diff(v[3], x) + diff(v[1], z)) / 2\n",
    "    return e\n",
    "end\n",
    "\n",
    "function hooke(e)\n",
    "    (2G * ν / (1 - 2ν) * tr(e)) .* I + 2G .* e\n",
    "end\n",
    "\n",
    "e_z = [Sym(0), Sym(0), Sym(1)];"
   ]
  },
  {
   "cell_type": "markdown",
   "id": "b6ff3c56-d226-4971-b76a-30a1f753a179",
   "metadata": {
    "tags": []
   },
   "source": [
    "## Navier's equation for the displacements under consideration"
   ]
  },
  {
   "cell_type": "markdown",
   "id": "6449991b-b479-4e16-8235-5d5395cc5da0",
   "metadata": {},
   "source": [
    "The displacement field is defined as a `SymPy` expression."
   ]
  },
  {
   "cell_type": "code",
   "execution_count": 3,
   "id": "16c7d96c-f3d5-41b8-b787-e4bc49a1f9c5",
   "metadata": {
    "tags": []
   },
   "outputs": [
    {
     "data": {
      "text/latex": [
       "$\\left[ \\begin{array}{r}- g{\\left(z \\right)} \\frac{\\partial}{\\partial x} w{\\left(x,y \\right)}\\\\- g{\\left(z \\right)} \\frac{\\partial}{\\partial y} w{\\left(x,y \\right)}\\\\f{\\left(z \\right)} w{\\left(x,y \\right)}\\end{array} \\right]$\n"
      ],
      "text/plain": [
       "3-element Vector{Sym}:\n",
       " -g(z)*Derivative(w(x, y), x)\n",
       " -g(z)*Derivative(w(x, y), y)\n",
       "                 f(z)*w(x, y)"
      ]
     },
     "execution_count": 3,
     "metadata": {},
     "output_type": "execute_result"
    }
   ],
   "source": [
    "f = SymFunction(\"f\")(z)\n",
    "g = SymFunction(\"g\")(z)\n",
    "w = SymFunction(\"w\")(x, y)\n",
    "\n",
    "u = -g .* grad(w) + (f * w) .* e_z"
   ]
  },
  {
   "cell_type": "markdown",
   "id": "32240fbc-ca7f-415c-b1d3-6f49f37afb8b",
   "metadata": {},
   "source": [
    "The Navier equations of elastostatics must hold for the proposed displacement field, \n",
    "\n",
    "\\begin{equation*}\n",
    "\\operatorname{\\mathbf{grad}} \\operatorname{div} \\mathbf{u} + \\bigl( 1 - 2\\nu \\bigr) \\Delta \\mathbf{u} = \\mathbf{0}.\n",
    "\\end{equation*}"
   ]
  },
  {
   "cell_type": "markdown",
   "id": "60802cd5-5a65-4dd0-b169-2e3dcbead229",
   "metadata": {},
   "source": [
    "This leads to a system of differential equations in $f$ and $g$, and partial differential equations in $w$, where it is convenient to recognize $\\Delta w$ and its derivatives."
   ]
  },
  {
   "cell_type": "code",
   "execution_count": 4,
   "id": "4533cb48-2152-4018-a7f4-8c48108765f8",
   "metadata": {},
   "outputs": [
    {
     "data": {
      "text/latex": [
       "$\\left[ \\begin{array}{r}2 ν g{\\left(z \\right)} \\frac{\\partial}{\\partial x} \\Delta w{\\left(x,y \\right)} + 2 ν \\frac{d^{2}}{d z^{2}} g{\\left(z \\right)} \\frac{\\partial}{\\partial x} w{\\left(x,y \\right)} - 2 g{\\left(z \\right)} \\frac{\\partial}{\\partial x} \\Delta w{\\left(x,y \\right)} + \\frac{d}{d z} f{\\left(z \\right)} \\frac{\\partial}{\\partial x} w{\\left(x,y \\right)} - \\frac{d^{2}}{d z^{2}} g{\\left(z \\right)} \\frac{\\partial}{\\partial x} w{\\left(x,y \\right)}\\\\2 ν g{\\left(z \\right)} \\frac{\\partial}{\\partial y} \\Delta w{\\left(x,y \\right)} + 2 ν \\frac{d^{2}}{d z^{2}} g{\\left(z \\right)} \\frac{\\partial}{\\partial y} w{\\left(x,y \\right)} - 2 g{\\left(z \\right)} \\frac{\\partial}{\\partial y} \\Delta w{\\left(x,y \\right)} + \\frac{d}{d z} f{\\left(z \\right)} \\frac{\\partial}{\\partial y} w{\\left(x,y \\right)} - \\frac{d^{2}}{d z^{2}} g{\\left(z \\right)} \\frac{\\partial}{\\partial y} w{\\left(x,y \\right)}\\\\- 2 ν \\Delta w{\\left(x,y \\right)} f{\\left(z \\right)} - 2 ν w{\\left(x,y \\right)} \\frac{d^{2}}{d z^{2}} f{\\left(z \\right)} + \\Delta w{\\left(x,y \\right)} f{\\left(z \\right)} - \\Delta w{\\left(x,y \\right)} \\frac{d}{d z} g{\\left(z \\right)} + 2 w{\\left(x,y \\right)} \\frac{d^{2}}{d z^{2}} f{\\left(z \\right)}\\end{array} \\right]$\n"
      ],
      "text/plain": [
       "3-element Vector{Sym}:\n",
       " 2*ν*g(z)*Derivative(\\Delta w(x, y), x) + 2*ν*Derivative(g(z), (z, 2))*Derivative(w(x, y), x) - 2*g(z)*Derivative(\\Delta w(x, y), x) + Derivative(f(z), z)*Derivative(w(x, y), x) - Derivative(g(z), (z, 2))*Derivative(w(x, y), x)\n",
       " 2*ν*g(z)*Derivative(\\Delta w(x, y), y) + 2*ν*Derivative(g(z), (z, 2))*Derivative(w(x, y), y) - 2*g(z)*Derivative(\\Delta w(x, y), y) + Derivative(f(z), z)*Derivative(w(x, y), y) - Derivative(g(z), (z, 2))*Derivative(w(x, y), y)\n",
       "                                                                    -2*ν*\\Delta w(x, y)*f(z) - 2*ν*w(x, y)*Derivative(f(z), (z, 2)) + \\Delta w(x, y)*f(z) - \\Delta w(x, y)*Derivative(g(z), z) + 2*w(x, y)*Derivative(f(z), (z, 2))"
      ]
     },
     "execution_count": 4,
     "metadata": {},
     "output_type": "execute_result"
    }
   ],
   "source": [
    "@syms ν\n",
    "\n",
    "Δw = SymFunction(\"\\\\Delta w\")(x, y)\n",
    "\n",
    "replacements = [\n",
    "    (diff(w, x, y, y) => diff(Δw, x) - diff(w, x, x, x)),\n",
    "    (diff(w, x, x, y) => diff(Δw, y) - diff(w, y, y, y)),\n",
    "    (diff(w, y, y) => Δw - diff(w, x, x))]\n",
    "\n",
    "eqs1 = grad(div(u)) + (1 - 2ν) .* Δ.(u) .|> subs(replacements...) .|> doit .|> expand"
   ]
  },
  {
   "cell_type": "markdown",
   "id": "d33e4b6c-f4ae-421b-8c3c-ebc0df430877",
   "metadata": {},
   "source": [
    "We now show that this set of equations in fact reduces to\n",
    "\n",
    "<a id=\"eq-Navier-I\"></a>\n",
    "\\begin{equation*}\n",
    "\\tag{Navier-I}\n",
    "a_1(z) \\operatorname{\\mathbf{grad}} w + a_2(z) \\operatorname{\\mathbf{grad}} \\Delta w + \\bigl[ b_1(z) \\, w + b_2(z) \\, \\Delta w \\bigr] \\mathbf{e}_z = \\mathbf{0},\n",
    "\\end{equation*}\n",
    "\n",
    "where $a_1$, $a_2$, $b_1$ and $b_2$ are functions of $z$ only, that are identified below."
   ]
  },
  {
   "cell_type": "code",
   "execution_count": 5,
   "id": "9355ad85-da10-4819-8067-ea503df167e8",
   "metadata": {},
   "outputs": [
    {
     "data": {
      "text/latex": [
       "$\\left(2 ν - 1\\right) \\frac{d^{2}}{d z^{2}} g{\\left(z \\right)} + \\frac{d}{d z} f{\\left(z \\right)}$"
      ],
      "text/plain": [
       "            2                 \n",
       "           d          d       \n",
       "(2*ν - 1)*---(g(z)) + --(f(z))\n",
       "            2         dz      \n",
       "          dz                  "
      ]
     },
     "execution_count": 5,
     "metadata": {},
     "output_type": "execute_result"
    }
   ],
   "source": [
    "a₁ = collect(eqs1[1].coeff(diff(w, x)), [f, g])"
   ]
  },
  {
   "cell_type": "code",
   "execution_count": 6,
   "id": "de4fca59-ff0e-4604-935d-14ff3830fb3d",
   "metadata": {},
   "outputs": [
    {
     "data": {
      "text/latex": [
       "$2 \\left(ν - 1\\right) g{\\left(z \\right)}$"
      ],
      "text/plain": [
       "2*(ν - 1)*g(z)"
      ]
     },
     "execution_count": 6,
     "metadata": {},
     "output_type": "execute_result"
    }
   ],
   "source": [
    "a₂ = eqs1[1].coeff(diff(Δw, x)) |> factor"
   ]
  },
  {
   "cell_type": "code",
   "execution_count": 7,
   "id": "97660c54-d3e8-49c2-ae27-5e245d21d834",
   "metadata": {},
   "outputs": [
    {
     "data": {
      "text/latex": [
       "$- 2 \\left(ν - 1\\right) \\frac{d^{2}}{d z^{2}} f{\\left(z \\right)}$"
      ],
      "text/plain": [
       "             2      \n",
       "            d       \n",
       "-2*(ν - 1)*---(f(z))\n",
       "             2      \n",
       "           dz       "
      ]
     },
     "execution_count": 7,
     "metadata": {},
     "output_type": "execute_result"
    }
   ],
   "source": [
    "b₁ = eqs1[3].coeff(w) |> factor"
   ]
  },
  {
   "cell_type": "code",
   "execution_count": 8,
   "id": "93bff35c-e0bd-4fb6-8df6-e2928f7b1112",
   "metadata": {},
   "outputs": [
    {
     "data": {
      "text/latex": [
       "$\\left(1 - 2 ν\\right) f{\\left(z \\right)} - \\frac{d}{d z} g{\\left(z \\right)}$"
      ],
      "text/plain": [
       "                 d       \n",
       "(1 - 2*ν)*f(z) - --(g(z))\n",
       "                 dz      "
      ]
     },
     "execution_count": 8,
     "metadata": {},
     "output_type": "execute_result"
    }
   ],
   "source": [
    "b₂ = collect(eqs1[3].coeff(Δw), [f, g])"
   ]
  },
  {
   "cell_type": "markdown",
   "id": "891b0dce-0642-4ca6-89cd-b3daf91c2545",
   "metadata": {},
   "source": [
    "We can now check that the Navier equation indeed reduces to Eq. [(Navier-I)](#eq-Navier-I)."
   ]
  },
  {
   "cell_type": "code",
   "execution_count": 9,
   "id": "6d874437-4ebc-48ce-9e0d-341cf3129573",
   "metadata": {},
   "outputs": [],
   "source": [
    "eqs2 = a₁ .* grad(w) + a₂ .* grad(Δw) + (b₁ * w + b₂ * Δw) .* e_z\n",
    "res = eqs2 - eqs1 .|> expand\n",
    "@assert res == [0, 0, 0]"
   ]
  },
  {
   "cell_type": "markdown",
   "id": "93a69a13-da64-4252-931f-65e2e8e3aa4b",
   "metadata": {},
   "source": [
    "And the proof is complete!"
   ]
  },
  {
   "cell_type": "markdown",
   "id": "402aa77d-d792-4a78-b47d-8b005a98117d",
   "metadata": {},
   "source": [
    "## General expression of the functions $f$, $g$ and $w$"
   ]
  },
  {
   "cell_type": "markdown",
   "id": "14870b43-ab13-4e52-9d50-db5ba2edbf44",
   "metadata": {},
   "source": [
    "The projection of Eq. [(Navier-I)](#eq-Navier-I) along $\\mathbf{e}_z$ leads to\n",
    "\n",
    "\\begin{equation}\n",
    "\\tag{Navier-II}\n",
    "b_1(z) w(x, y) + b_2(z) \\Delta w(x, y) = 0.\n",
    "\\end{equation}"
   ]
  },
  {
   "cell_type": "markdown",
   "id": "5ec2bc76-8c2b-43a0-9852-e0418e5b77b2",
   "metadata": {},
   "source": [
    "Upon separation of variables, we get\n",
    "\n",
    "\\begin{equation}\n",
    "\\frac{\\Delta w(x, y)}{w(x, y)} = - \\frac{b_1(z)}{b_2(z)} = \\Gamma,\n",
    "\\end{equation}\n",
    "\n",
    "where $\\Gamma$ is a constant."
   ]
  },
  {
   "cell_type": "markdown",
   "id": "ab75b1e8-488a-43f7-8998-07f09699a987",
   "metadata": {},
   "source": [
    "In other words, $w$ is the solution to the following eigenvalue problem with Dirichlet boundary conditions.\n",
    "\n",
    "<a id=\"eq-Laplace-I\"></a>\n",
    "\\begin{equation*}\n",
    "\\tag{Laplace-I}\n",
    "\\Delta w = \\Gamma w \\quad \\text{and} \\quad w \\lvert_{\\partial\\Sigma} = 0.\n",
    "\\end{equation*}"
   ]
  },
  {
   "cell_type": "markdown",
   "id": "69fffbcb-9e14-420e-9978-6b897ca7a170",
   "metadata": {},
   "source": [
    "Upon multiplication of the above PDE by $w$, followed by integration by parts over the whole domain $\\Sigma$, it can be shown that $\\Gamma < 0$. We therefore rewrite [(Laplace-I)](#eq-Laplace-I) as follows\n",
    "\n",
    "<a id=\"eq-Laplace-II\"></a>\n",
    "\\begin{equation}\n",
    "\\tag{Laplace-II}\n",
    "\\Delta w = -\\gamma^2 w \\quad \\text{and} \\quad w \\lvert_{\\partial\\Sigma} = 0,\n",
    "\\end{equation}\n",
    "\n",
    "where $\\gamma > 0$."
   ]
  },
  {
   "cell_type": "markdown",
   "id": "74843f96-6520-4062-b724-8590a74a1f11",
   "metadata": {
    "tags": []
   },
   "source": [
    "Pluging Eq. [(Laplace-II)](#eq-Laplace-II) into Eq. [(Navier-I)](#eq-Navier-I) leads to\n",
    "\n",
    "<a id=\"eq-Navier-III\"></a>\n",
    "\\begin{equation}\n",
    "\\tag{Navier-III}\n",
    "a(z) \\operatorname{\\mathbf{grad}} w(x, y) + b(z) \\, w(x, y) \\, \\mathbf{e}_z = 0,\n",
    "\\end{equation}\n",
    "\n",
    "with\n",
    "\n",
    "\\begin{equation*}\n",
    "a(z) = a_1(z) - \\gamma^2 a_2(z) \\quad \\text{and} \\quad b(z) = b_1(z) - \\gamma^2 b_2(z).\n",
    "\\end{equation*}"
   ]
  },
  {
   "cell_type": "markdown",
   "id": "71c08c4b-6ea4-42a2-b832-188be089cced",
   "metadata": {},
   "source": [
    "Since $\\operatorname{\\mathbf{grad}} w$ has no out-of-plane components, Eq. [(Navier-III)](#eq-Navier-III) reduces to the scalar equations $a(z) = 0$ and $b(z) = 0$."
   ]
  },
  {
   "cell_type": "code",
   "execution_count": 10,
   "id": "c14001e8-6db7-41d4-b8a8-61ee073d11fa",
   "metadata": {},
   "outputs": [
    {
     "data": {
      "text/plain": [
       "(γ,)"
      ]
     },
     "execution_count": 10,
     "metadata": {},
     "output_type": "execute_result"
    }
   ],
   "source": [
    "@syms γ"
   ]
  },
  {
   "cell_type": "code",
   "execution_count": 11,
   "id": "e831e293-cb66-4ff0-b62d-0cb7abd7259e",
   "metadata": {},
   "outputs": [
    {
     "data": {
      "text/latex": [
       "$- 2 γ^{2} \\left(ν - 1\\right) g{\\left(z \\right)} + \\left(2 ν - 1\\right) \\frac{d^{2}}{d z^{2}} g{\\left(z \\right)} + \\frac{d}{d z} f{\\left(z \\right)} = 0$"
      ],
      "text/plain": [
       "                                  2                     \n",
       "     2                           d          d           \n",
       "- 2*γ *(ν - 1)*g(z) + (2*ν - 1)*---(g(z)) + --(f(z)) = 0\n",
       "                                  2         dz          \n",
       "                                dz                      "
      ]
     },
     "execution_count": 11,
     "metadata": {},
     "output_type": "execute_result"
    }
   ],
   "source": [
    "a = a₁ - γ^2 * a₂\n",
    "Eq(a, 0)"
   ]
  },
  {
   "cell_type": "code",
   "execution_count": 12,
   "id": "d6a8fe65-1ac4-4f42-8b16-0a66d30c7931",
   "metadata": {},
   "outputs": [
    {
     "data": {
      "text/latex": [
       "$- γ^{2} \\left(\\left(1 - 2 ν\\right) f{\\left(z \\right)} - \\frac{d}{d z} g{\\left(z \\right)}\\right) - 2 \\left(ν - 1\\right) \\frac{d^{2}}{d z^{2}} f{\\left(z \\right)} = 0$"
      ],
      "text/plain": [
       "                                               2          \n",
       "   2 /                 d       \\              d           \n",
       "- γ *|(1 - 2*ν)*f(z) - --(g(z))| - 2*(ν - 1)*---(f(z)) = 0\n",
       "     \\                 dz      /               2          \n",
       "                                             dz           "
      ]
     },
     "execution_count": 12,
     "metadata": {},
     "output_type": "execute_result"
    }
   ],
   "source": [
    "b = b₁ - γ^2 * b₂\n",
    "Eq(b, 0)"
   ]
  },
  {
   "cell_type": "markdown",
   "id": "ee83b15d-2ecd-4829-94f9-e82aed938537",
   "metadata": {},
   "source": [
    "This is a linear system of ODEs in $f$ and $g$. We seek a solution of the form $f(z) = F \\exp \\lambda z$ and $g(z) = G \\exp \\lambda z$. We find the following linear system, with unknowns $F$ and $G$\n",
    "\n",
    "\\begin{equation*}\n",
    "A \\cdot \\begin{bmatrix} F \\\\ G \\end{bmatrix} = 0.\n",
    "\\end{equation*}\n",
    "\n",
    "The matrix $A$ is expressed below."
   ]
  },
  {
   "cell_type": "code",
   "execution_count": 13,
   "id": "7f9268f8-e8f0-45cf-bf45-250dc0cf28b6",
   "metadata": {},
   "outputs": [
    {
     "data": {
      "text/plain": [
       "2-element Vector{Pair{Sym, Sym}}:\n",
       " f(z) => F*exp(z*λ)\n",
       " g(z) => G*exp(z*λ)"
      ]
     },
     "execution_count": 13,
     "metadata": {},
     "output_type": "execute_result"
    }
   ],
   "source": [
    "@syms F, G, λ\n",
    "fg_sol = [f => F * exp(λ * z), g => G * exp(λ * z)]"
   ]
  },
  {
   "cell_type": "code",
   "execution_count": 14,
   "id": "4cb41d92-dc9e-4618-90f7-a4da2899c86e",
   "metadata": {},
   "outputs": [
    {
     "data": {
      "text/latex": [
       "$\\left[ \\begin{array}{rr}λ&- 2 γ^{2} ν + 2 γ^{2} + 2 λ^{2} ν - λ^{2}\\\\2 γ^{2} ν - γ^{2} - 2 λ^{2} ν + 2 λ^{2}&γ^{2} λ\\end{array}\\right]$\n"
      ],
      "text/plain": [
       "2×2 Matrix{Sym}:\n",
       "                               λ  -2*γ^2*ν + 2*γ^2 + 2*λ^2*ν - λ^2\n",
       " 2*γ^2*ν - γ^2 - 2*λ^2*ν + 2*λ^2                             γ^2*λ"
      ]
     },
     "execution_count": 14,
     "metadata": {},
     "output_type": "execute_result"
    }
   ],
   "source": [
    "row1 = (a(fg_sol...).doit().factor() / exp(λ * z)).collect([F, G], evaluate=False, func=factor)\n",
    "row2 = (b(fg_sol...).doit().factor() / exp(λ * z)).collect([F, G], evaluate=False, func=factor)\n",
    "A = [row1[F] row1[G]\n",
    "     row2[F] row2[G]]"
   ]
  },
  {
   "cell_type": "markdown",
   "id": "f16a715d-2cda-4e7d-ac12-7a78759f62d5",
   "metadata": {},
   "source": [
    "For this linear system to have a non-trivial solution, the matrix $A$ must be singular: $\\det A = 0$."
   ]
  },
  {
   "cell_type": "code",
   "execution_count": 15,
   "id": "441954a2-9ed4-4408-b4a9-e318c732cde6",
   "metadata": {},
   "outputs": [
    {
     "data": {
      "text/latex": [
       "$2 \\left(γ - λ\\right)^{2} \\left(γ + λ\\right)^{2} \\left(ν - 1\\right) \\left(2 ν - 1\\right)$"
      ],
      "text/plain": [
       "         2        2                  \n",
       "2*(γ - λ) *(γ + λ) *(ν - 1)*(2*ν - 1)"
      ]
     },
     "execution_count": 15,
     "metadata": {},
     "output_type": "execute_result"
    }
   ],
   "source": [
    "det_A = factor(det(A))"
   ]
  },
  {
   "cell_type": "markdown",
   "id": "fb6729cc-83f3-4b29-b0d2-caaf69099519",
   "metadata": {},
   "source": [
    "This leads to $\\lambda = \\pm \\gamma$. Each of these roots being double, the general solution of the system of differential equations is as follows."
   ]
  },
  {
   "cell_type": "code",
   "execution_count": 16,
   "id": "34c518d9-0f01-47da-92ea-65e1331b711a",
   "metadata": {
    "tags": []
   },
   "outputs": [
    {
     "data": {
      "text/plain": [
       "(F₂, F₃, F₄, G₁, G₂, G₃, G₄)"
      ]
     },
     "execution_count": 16,
     "metadata": {},
     "output_type": "execute_result"
    }
   ],
   "source": [
    "@syms F₂, F₃, F₄, G₁, G₂, G₃, G₄"
   ]
  },
  {
   "cell_type": "code",
   "execution_count": 17,
   "id": "3a4f838f-c27b-4f93-9fd2-5045b4d85bc0",
   "metadata": {},
   "outputs": [
    {
     "data": {
      "text/latex": [
       "$f{\\left(z \\right)} = F₂ \\sinh{\\left(z γ \\right)} + z γ \\left(F₃ \\cosh{\\left(z γ \\right)} + F₄ \\sinh{\\left(z γ \\right)}\\right) + \\cosh{\\left(z γ \\right)}$"
      ],
      "text/plain": [
       "f(z) = F₂*sinh(z*γ) + z*γ*(F₃*cosh(z*γ) + F₄*sinh(z*γ)) + cosh(z*γ)"
      ]
     },
     "execution_count": 17,
     "metadata": {},
     "output_type": "execute_result"
    }
   ],
   "source": [
    "f_sol = cosh(γ * z) + F₂ * sinh(γ * z) + γ * z * (F₃ * cosh(γ * z) + F₄ * sinh(γ * z))\n",
    "Equality(f, f_sol)"
   ]
  },
  {
   "cell_type": "code",
   "execution_count": 18,
   "id": "019646c2-2666-4b67-ad0f-d1828384971d",
   "metadata": {},
   "outputs": [
    {
     "data": {
      "text/latex": [
       "$g{\\left(z \\right)} = G₁ \\cosh{\\left(z γ \\right)} + G₂ \\sinh{\\left(z γ \\right)} + z γ \\left(G₃ \\cosh{\\left(z γ \\right)} + G₄ \\sinh{\\left(z γ \\right)}\\right)$"
      ],
      "text/plain": [
       "g(z) = G₁*cosh(z*γ) + G₂*sinh(z*γ) + z*γ*(G₃*cosh(z*γ) + G₄*sinh(z*γ))"
      ]
     },
     "execution_count": 18,
     "metadata": {},
     "output_type": "execute_result"
    }
   ],
   "source": [
    "g_sol = G₁ * cosh(γ * z) + G₂ * sinh(γ * z) + γ * z * (G₃ * cosh(γ * z) + G₄ * sinh(γ * z))\n",
    "Equality(g, g_sol)"
   ]
  },
  {
   "cell_type": "markdown",
   "id": "3fc3e647-c65c-4ead-bf19-8d9110d8ad57",
   "metadata": {},
   "source": [
    "Note that, in the above expression of $f$, we chose $F_1 = 1$, in order to enforce $f(0) = 1$."
   ]
  },
  {
   "cell_type": "code",
   "execution_count": 19,
   "id": "20bf234a-1c70-4e83-9e08-fccc291a0412",
   "metadata": {},
   "outputs": [],
   "source": [
    "@assert f_sol(z => 0) == 1"
   ]
  },
  {
   "cell_type": "markdown",
   "id": "6e9d4e0a-2463-40ae-b562-89734b8a384d",
   "metadata": {},
   "source": [
    "The constants $F_2$, $F_3$, $F_4$, $G_1$, $G_2$, $G_3$ and $G_4$ are not linearly independent, as can be verified by plugging the above forms into the initial system of differential equations. After isolating the coefficients of $\\cosh\\gamma z$, $\\sinh\\gamma z$, $\\gamma z\\cosh \\gamma z$ and $\\gamma z\\sinh \\gamma z$, we get the following equations."
   ]
  },
  {
   "cell_type": "code",
   "execution_count": 20,
   "id": "7a47f17d-4017-4c78-ae1d-ba5b3f5e5aff",
   "metadata": {},
   "outputs": [
    {
     "data": {
      "text/latex": [
       "$F₂ γ \\cosh{\\left(z γ \\right)} + F₃ z γ^{2} \\sinh{\\left(z γ \\right)} + F₃ γ \\cosh{\\left(z γ \\right)} + F₄ z γ^{2} \\cosh{\\left(z γ \\right)} + F₄ γ \\sinh{\\left(z γ \\right)} + G₁ γ^{2} \\cosh{\\left(z γ \\right)} + G₂ γ^{2} \\sinh{\\left(z γ \\right)} + G₃ z γ^{3} \\cosh{\\left(z γ \\right)} + 4 G₃ γ^{2} ν \\sinh{\\left(z γ \\right)} - 2 G₃ γ^{2} \\sinh{\\left(z γ \\right)} + G₄ z γ^{3} \\sinh{\\left(z γ \\right)} + 4 G₄ γ^{2} ν \\cosh{\\left(z γ \\right)} - 2 G₄ γ^{2} \\cosh{\\left(z γ \\right)} + γ \\sinh{\\left(z γ \\right)}$"
      ],
      "text/plain": [
       "                       2                                    2                 \n",
       "F₂*γ*cosh(z*γ) + F₃*z*γ *sinh(z*γ) + F₃*γ*cosh(z*γ) + F₄*z*γ *cosh(z*γ) + F₄*γ\n",
       "\n",
       "                 2                 2                   3                   2  \n",
       "*sinh(z*γ) + G₁*γ *cosh(z*γ) + G₂*γ *sinh(z*γ) + G₃*z*γ *cosh(z*γ) + 4*G₃*γ *ν\n",
       "\n",
       "                   2                   3                   2                  \n",
       "*sinh(z*γ) - 2*G₃*γ *sinh(z*γ) + G₄*z*γ *sinh(z*γ) + 4*G₄*γ *ν*cosh(z*γ) - 2*G\n",
       "\n",
       "   2                        \n",
       "₄*γ *cosh(z*γ) + γ*sinh(z*γ)"
      ]
     },
     "execution_count": 20,
     "metadata": {},
     "output_type": "execute_result"
    }
   ],
   "source": [
    "a(f => f_sol, g => g_sol).doit().expand()"
   ]
  },
  {
   "cell_type": "code",
   "execution_count": 21,
   "id": "dfd68470-ba60-449d-852b-4c19a89f5ae1",
   "metadata": {},
   "outputs": [
    {
     "data": {
      "text/latex": [
       "$\\left[ \\begin{array}{r}γ \\left(F₂ + F₃ + G₁ γ + 4 G₄ γ ν - 2 G₄ γ\\right)\\\\γ^{2} \\left(F₄ + G₃ γ\\right)\\\\γ \\left(F₄ + G₂ γ + 4 G₃ γ ν - 2 G₃ γ + 1\\right)\\\\γ^{2} \\left(F₃ + G₄ γ\\right)\\\\- γ^{2} \\cdot \\left(4 F₄ ν - 4 F₄ - G₂ γ - G₃ γ - 1\\right)\\\\γ^{3} \\left(F₃ + G₄ γ\\right)\\\\γ^{2} \\left(F₂ - 4 F₃ ν + 4 F₃ + G₁ γ + G₄ γ\\right)\\\\γ^{3} \\left(F₄ + G₃ γ\\right)\\end{array} \\right]$\n"
      ],
      "text/plain": [
       "8-element Vector{Sym}:\n",
       " γ*(F₂ + F₃ + G₁*γ + 4*G₄*γ*ν - 2*G₄*γ)\n",
       "                        γ^2*(F₄ + G₃*γ)\n",
       "  γ*(F₄ + G₂*γ + 4*G₃*γ*ν - 2*G₃*γ + 1)\n",
       "                        γ^2*(F₃ + G₄*γ)\n",
       " -γ^2*(4*F₄*ν - 4*F₄ - G₂*γ - G₃*γ - 1)\n",
       "                        γ^3*(F₃ + G₄*γ)\n",
       " γ^2*(F₂ - 4*F₃*ν + 4*F₃ + G₁*γ + G₄*γ)\n",
       "                        γ^3*(F₄ + G₃*γ)"
      ]
     },
     "execution_count": 21,
     "metadata": {},
     "output_type": "execute_result"
    }
   ],
   "source": [
    "eqs3 = Sym[]\n",
    "\n",
    "for eq in [a, b]\n",
    "    eq1 = eq(f => f_sol, g => g_sol).doit().expand()\n",
    "    eq2 = eq1.coeff(cosh(γ * z)).expand()\n",
    "    push!(eqs3, eq2.coeff(z, 0).factor())\n",
    "    push!(eqs3, eq2.coeff(z, 1).factor())\n",
    "    \n",
    "    eq2 = eq1.coeff(sinh(γ * z)).expand()\n",
    "    push!(eqs3, eq2.coeff(z, 0).factor())\n",
    "    push!(eqs3, eq2.coeff(z, 1).factor())\n",
    "end\n",
    "\n",
    "eqs3"
   ]
  },
  {
   "cell_type": "markdown",
   "id": "6b4c9e0e-4a32-4af1-9768-613dbc2c40f4",
   "metadata": {},
   "source": [
    "Which delivers the expression of the $G_i$."
   ]
  },
  {
   "cell_type": "code",
   "execution_count": 22,
   "id": "4e88f828-cf60-4e40-9456-46cd35bd834b",
   "metadata": {},
   "outputs": [],
   "source": [
    "G_sol = sympy.solve(eqs3, [G₁, G₂, G₃, G₄]);"
   ]
  },
  {
   "cell_type": "markdown",
   "id": "c1034e09-c6ce-4deb-bb28-3b039312c178",
   "metadata": {},
   "source": [
    "To summarize, we have first found that $\\Delta w = -\\gamma^2 w$, with $w = 0$ at the boundary. Then, we found that\n",
    "\n",
    "\\begin{align*}\n",
    "f(z) &= \\cosh(\\gamma z) + F_2 \\sinh(\\gamma z) + \\gamma z \\bigl(F_3 \\cosh \\gamma z + F_4 \\sinh \\gamma_z \\bigr)\\\\\n",
    "g(z) &= G_1 \\cosh(\\gamma z) + G_2 \\sinh(\\gamma z) + \\gamma z \\bigl(G_3 \\cosh \\gamma z + G_4 \\sinh \\gamma_z \\bigr)\n",
    "\\end{align*}\n",
    "\n",
    "with"
   ]
  },
  {
   "cell_type": "code",
   "execution_count": 23,
   "id": "18e3438c-eea4-45db-a2f6-659bfc99262c",
   "metadata": {},
   "outputs": [
    {
     "data": {
      "text/latex": [
       "$G₁ = - \\frac{F₂}{γ} + \\frac{4 F₃ ν}{γ} - \\frac{3 F₃}{γ}$"
      ],
      "text/plain": [
       "       F₂   4*F₃*ν   3*F₃\n",
       "G₁ = - -- + ------ - ----\n",
       "       γ      γ       γ  "
      ]
     },
     "execution_count": 23,
     "metadata": {},
     "output_type": "execute_result"
    }
   ],
   "source": [
    "Equality(G₁, expand(G_sol[G₁]))"
   ]
  },
  {
   "cell_type": "code",
   "execution_count": 24,
   "id": "e97743a1-ec7b-44a6-8d2f-8cb62471de90",
   "metadata": {},
   "outputs": [
    {
     "data": {
      "text/latex": [
       "$G₂ = \\frac{4 F₄ ν}{γ} - \\frac{3 F₄}{γ} - \\frac{1}{γ}$"
      ],
      "text/plain": [
       "     4*F₄*ν   3*F₄   1\n",
       "G₂ = ------ - ---- - -\n",
       "       γ       γ     γ"
      ]
     },
     "execution_count": 24,
     "metadata": {},
     "output_type": "execute_result"
    }
   ],
   "source": [
    "Equality(G₂, expand(G_sol[G₂]))"
   ]
  },
  {
   "cell_type": "code",
   "execution_count": 25,
   "id": "324f7ced-988d-4105-99f2-eb3eb11baecd",
   "metadata": {},
   "outputs": [
    {
     "data": {
      "text/latex": [
       "$G₃ = - \\frac{F₄}{γ}$"
      ],
      "text/plain": [
       "     -F₄ \n",
       "G₃ = ----\n",
       "      γ  "
      ]
     },
     "execution_count": 25,
     "metadata": {},
     "output_type": "execute_result"
    }
   ],
   "source": [
    "Equality(G₃, expand(G_sol[G₃]))"
   ]
  },
  {
   "cell_type": "code",
   "execution_count": 26,
   "id": "61d853e2-8f0f-4db6-9ab2-d1104c156189",
   "metadata": {},
   "outputs": [
    {
     "data": {
      "text/latex": [
       "$G₄ = - \\frac{F₃}{γ}$"
      ],
      "text/plain": [
       "     -F₃ \n",
       "G₄ = ----\n",
       "      γ  "
      ]
     },
     "execution_count": 26,
     "metadata": {},
     "output_type": "execute_result"
    }
   ],
   "source": [
    "Equality(G₄, expand(G_sol[G₄]))"
   ]
  },
  {
   "cell_type": "markdown",
   "id": "3b4d1113-dfa7-4344-b12c-f2e71a34fb57",
   "metadata": {},
   "source": [
    "In order to find the expression of $F_2$, $F_3$ and $F_4$, we need to express the boundary conditions at the top and bottom faces ($z = \\pm h/2$)."
   ]
  },
  {
   "cell_type": "markdown",
   "id": "92b0fb76-f6c3-445f-bec2-12282deba246",
   "metadata": {},
   "source": [
    "## Boundary conditions at the top and bottom faces"
   ]
  },
  {
   "cell_type": "markdown",
   "id": "a9f4db8b-24ad-4b4f-9544-72c3fd4af080",
   "metadata": {},
   "source": [
    "These boundary conditions are given by Eqs. [(BC-II)](#eq-BC-II), [(BC-III)](#eq-BC-III), [(BC-IV)](#eq-BC-IV) and [(BC-V)](#eq-BC-V). For the displacement field that has been found, we therefore need to evaluate the associated stresses."
   ]
  },
  {
   "cell_type": "code",
   "execution_count": 27,
   "id": "e3975923-014d-4dbf-8973-7014245d49c0",
   "metadata": {
    "tags": []
   },
   "outputs": [],
   "source": [
    "@syms h\n",
    "p = SymFunction(\"p\")(x, y);"
   ]
  },
  {
   "cell_type": "markdown",
   "id": "67e2b89b-0888-4c74-9103-f2e0744619da",
   "metadata": {},
   "source": [
    "The boundary conditions are first expressed with the general functions $f$ and $g$. Then, the same conditions are expressed with the integration constants $F_2$, $F_3$ and $F_4$."
   ]
  },
  {
   "cell_type": "markdown",
   "id": "c23533fd-0f9e-496b-b683-dd09e5780d82",
   "metadata": {},
   "source": [
    "### General expression of the boundary conditions\n",
    "\n",
    "We first evaluate the strains."
   ]
  },
  {
   "cell_type": "code",
   "execution_count": 28,
   "id": "d4041603-e5f7-4069-904f-9d68c8bab987",
   "metadata": {},
   "outputs": [],
   "source": [
    "ϵ = sym_grad(u);"
   ]
  },
  {
   "cell_type": "code",
   "execution_count": 29,
   "id": "14f2ca33-e139-4045-89b6-625e5b511854",
   "metadata": {},
   "outputs": [],
   "source": [
    "σ = hooke(ϵ) .|> expand;"
   ]
  },
  {
   "cell_type": "markdown",
   "id": "c3f1c23e-5875-4cc7-9b38-42f48d069b29",
   "metadata": {},
   "source": [
    "The *four* boundary conditions [(BC-II)](#eq-BC-II) and [(BC-III)](#eq-BC-III) deliver only *two* independent equations."
   ]
  },
  {
   "cell_type": "code",
   "execution_count": 30,
   "id": "20b3a600-5ef2-4971-a52b-c4957dcbc467",
   "metadata": {
    "tags": []
   },
   "outputs": [
    {
     "data": {
      "text/latex": [
       "$\\left[ \\begin{array}{r}f{\\left(- \\frac{h}{2} \\right)} - \\left. \\frac{d}{d z} g{\\left(z \\right)} \\right|_{\\substack{ z=- \\frac{h}{2} }}\\\\f{\\left(\\frac{h}{2} \\right)} - \\left. \\frac{d}{d z} g{\\left(z \\right)} \\right|_{\\substack{ z=\\frac{h}{2} }}\\\\f{\\left(- \\frac{h}{2} \\right)} - \\left. \\frac{d}{d z} g{\\left(z \\right)} \\right|_{\\substack{ z=- \\frac{h}{2} }}\\\\f{\\left(\\frac{h}{2} \\right)} - \\left. \\frac{d}{d z} g{\\left(z \\right)} \\right|_{\\substack{ z=\\frac{h}{2} }}\\end{array} \\right]$\n"
      ],
      "text/plain": [
       "4-element Vector{Sym}:\n",
       " f(-h/2) - Subs(Derivative(g(z), z), z, -h/2)\n",
       "   f(h/2) - Subs(Derivative(g(z), z), z, h/2)\n",
       " f(-h/2) - Subs(Derivative(g(z), z), z, -h/2)\n",
       "   f(h/2) - Subs(Derivative(g(z), z), z, h/2)"
      ]
     },
     "execution_count": 30,
     "metadata": {},
     "output_type": "execute_result"
    }
   ],
   "source": [
    "bcs = [\n",
    "    σ[1, 3](z => -h/2) / (G * diff(w, x)),\n",
    "    σ[1, 3](z => h/2) / (G * diff(w, x)),\n",
    "    σ[2, 3](z => -h/2) / (G * diff(w, y)),\n",
    "    σ[2, 3](z => h/2) / (G * diff(w, y)),\n",
    "] .|> factor"
   ]
  },
  {
   "cell_type": "markdown",
   "id": "03b93937-e8f0-4360-9fab-125e3cf01ce7",
   "metadata": {},
   "source": [
    "Only the first two equations are independent."
   ]
  },
  {
   "cell_type": "code",
   "execution_count": 31,
   "id": "1e2390de-27e1-4203-b3a4-8034eaf328a2",
   "metadata": {},
   "outputs": [
    {
     "data": {
      "text/latex": [
       "$\\left[ \\begin{array}{r}f{\\left(- \\frac{h}{2} \\right)} - \\left. \\frac{d}{d z} g{\\left(z \\right)} \\right|_{\\substack{ z=- \\frac{h}{2} }}\\\\f{\\left(\\frac{h}{2} \\right)} - \\left. \\frac{d}{d z} g{\\left(z \\right)} \\right|_{\\substack{ z=\\frac{h}{2} }}\\end{array} \\right]$\n"
      ],
      "text/plain": [
       "2-element Vector{Sym}:\n",
       " f(-h/2) - Subs(Derivative(g(z), z), z, -h/2)\n",
       "   f(h/2) - Subs(Derivative(g(z), z), z, h/2)"
      ]
     },
     "execution_count": 31,
     "metadata": {},
     "output_type": "execute_result"
    }
   ],
   "source": [
    "deleteat!(bcs, 3:4)"
   ]
  },
  {
   "cell_type": "markdown",
   "id": "fd62f0f1-be43-4155-9cba-5d238d289720",
   "metadata": {},
   "source": [
    "We now turn to Eqs. [(BC-IV)](#eq-BC-IV) and [(BC-V)](#eq-BC-V)."
   ]
  },
  {
   "cell_type": "code",
   "execution_count": 32,
   "id": "85f9bef6-ff1b-4314-92fb-724e7c5dd144",
   "metadata": {},
   "outputs": [
    {
     "data": {
      "text/latex": [
       "$- \\frac{2 G ν g{\\left(- \\frac{h}{2} \\right)} \\frac{\\partial^{2}}{\\partial x^{2}} w{\\left(x,y \\right)}}{1 - 2 ν} - \\frac{2 G ν g{\\left(- \\frac{h}{2} \\right)} \\frac{\\partial^{2}}{\\partial y^{2}} w{\\left(x,y \\right)}}{1 - 2 ν} + \\frac{2 G ν w{\\left(x,y \\right)} \\left. \\frac{d}{d z} f{\\left(z \\right)} \\right|_{\\substack{ z=- \\frac{h}{2} }}}{1 - 2 ν} + 2 G w{\\left(x,y \\right)} \\left. \\frac{d}{d z} f{\\left(z \\right)} \\right|_{\\substack{ z=- \\frac{h}{2} }}$"
      ],
      "text/plain": [
       "                 2                           2                                \n",
       "         /-h \\  d                    /-h \\  d                           /d    \n",
       "  2*G*ν*g|---|*---(w(x, y))   2*G*ν*g|---|*---(w(x, y))   2*G*ν*w(x, y)*|--(f(\n",
       "         \\ 2 /   2                   \\ 2 /   2                          \\dz   \n",
       "               dx                          dy                                 \n",
       "- ------------------------- - ------------------------- + --------------------\n",
       "           1 - 2*ν                     1 - 2*ν                       1 - 2*ν  \n",
       "                                                                              \n",
       "\n",
       "                                         \n",
       "   \\|                                    \n",
       "z))||  -h                                \n",
       "   /|z=---                               \n",
       "        2                /d       \\|     \n",
       "---------- + 2*G*w(x, y)*|--(f(z))||  -h \n",
       "                         \\dz      /|z=---\n",
       "                                       2 "
      ]
     },
     "execution_count": 32,
     "metadata": {},
     "output_type": "execute_result"
    }
   ],
   "source": [
    "σ_zz⁺ = σ[3, 3](z => h/2)\n",
    "σ_zz⁻ = σ[3, 3](z => -h/2)"
   ]
  },
  {
   "cell_type": "markdown",
   "id": "41324477-2dd2-497a-858f-4bdcc50b1564",
   "metadata": {},
   "source": [
    "Eq. [(BC-IV)](#eq-BC-IV) provides a third condition for $f$ and $g$ (independent of $p)."
   ]
  },
  {
   "cell_type": "code",
   "execution_count": 33,
   "id": "218bad00-57de-4209-833b-385dc2d05e99",
   "metadata": {},
   "outputs": [
    {
     "data": {
      "text/latex": [
       "$γ^{2} ν \\left(g{\\left(- \\frac{h}{2} \\right)} + g{\\left(\\frac{h}{2} \\right)}\\right) - \\left(ν - 1\\right) \\left(\\left. \\frac{d}{d z} f{\\left(z \\right)} \\right|_{\\substack{ z=- \\frac{h}{2} }} + \\left. \\frac{d}{d z} f{\\left(z \\right)} \\right|_{\\substack{ z=\\frac{h}{2} }}\\right)$"
      ],
      "text/plain": [
       " 2   / /-h \\    /h\\\\           //d       \\|        /d       \\|   \\\n",
       "γ *ν*|g|---| + g|-|| - (ν - 1)*||--(f(z))||  -h  + |--(f(z))||  h|\n",
       "     \\ \\ 2 /    \\2//           |\\dz      /|z=---   \\dz      /|z=-|\n",
       "                               \\              2                 2/"
      ]
     },
     "execution_count": 33,
     "metadata": {},
     "output_type": "execute_result"
    }
   ],
   "source": [
    "aux1 = σ_zz⁺ + σ_zz⁻\n",
    "aux2 = aux1(diff(w, y, y) => -γ^2 * w - diff(w, x, x)) |> factor\n",
    "aux3 = aux2 * ((1 - 2ν) / (2G * w)) |> factor\n",
    "bc = collect(aux3, [γ], func=factor)"
   ]
  },
  {
   "cell_type": "markdown",
   "id": "aefe01ed-6145-473e-b13a-682453bdad47",
   "metadata": {},
   "source": [
    "We get the following three conditions."
   ]
  },
  {
   "cell_type": "code",
   "execution_count": 34,
   "id": "2db369ab-1dba-47f4-95ca-39d15d291a3e",
   "metadata": {},
   "outputs": [
    {
     "data": {
      "text/latex": [
       "$\\left[ \\begin{array}{r}f{\\left(- \\frac{h}{2} \\right)} - \\left. \\frac{d}{d z} g{\\left(z \\right)} \\right|_{\\substack{ z=- \\frac{h}{2} }}\\\\f{\\left(\\frac{h}{2} \\right)} - \\left. \\frac{d}{d z} g{\\left(z \\right)} \\right|_{\\substack{ z=\\frac{h}{2} }}\\\\γ^{2} ν \\left(g{\\left(- \\frac{h}{2} \\right)} + g{\\left(\\frac{h}{2} \\right)}\\right) - \\left(ν - 1\\right) \\left(\\left. \\frac{d}{d z} f{\\left(z \\right)} \\right|_{\\substack{ z=- \\frac{h}{2} }} + \\left. \\frac{d}{d z} f{\\left(z \\right)} \\right|_{\\substack{ z=\\frac{h}{2} }}\\right)\\end{array} \\right]$\n"
      ],
      "text/plain": [
       "3-element Vector{Sym}:\n",
       "                                                                f(-h/2) - Subs(Derivative(g(z), z), z, -h/2)\n",
       "                                                                  f(h/2) - Subs(Derivative(g(z), z), z, h/2)\n",
       " γ^2*ν*(g(-h/2) + g(h/2)) - (ν - 1)*(Subs(Derivative(f(z), z), z, -h/2) + Subs(Derivative(f(z), z), z, h/2))"
      ]
     },
     "execution_count": 34,
     "metadata": {},
     "output_type": "execute_result"
    }
   ],
   "source": [
    "push!(bcs, bc)"
   ]
  },
  {
   "cell_type": "markdown",
   "id": "328f01d4-5176-4904-8ba8-672f7232e01b",
   "metadata": {},
   "source": [
    "Eq. [(BC-V)](#eq-BC-V) provides the link between $w$ and $p$."
   ]
  },
  {
   "cell_type": "code",
   "execution_count": 35,
   "id": "54d5d5ed-828e-48aa-a7ea-2017d7d22eac",
   "metadata": {},
   "outputs": [
    {
     "data": {
      "text/latex": [
       "$\\frac{\\left(2 ν - 1\\right) p{\\left(x,y \\right)}}{2 G \\left(γ^{2} ν g{\\left(- \\frac{h}{2} \\right)} - γ^{2} ν g{\\left(\\frac{h}{2} \\right)} - ν \\left. \\frac{d}{d z} f{\\left(z \\right)} \\right|_{\\substack{ z=- \\frac{h}{2} }} + ν \\left. \\frac{d}{d z} f{\\left(z \\right)} \\right|_{\\substack{ z=\\frac{h}{2} }} + \\left. \\frac{d}{d z} f{\\left(z \\right)} \\right|_{\\substack{ z=- \\frac{h}{2} }} - \\left. \\frac{d}{d z} f{\\left(z \\right)} \\right|_{\\substack{ z=\\frac{h}{2} }}\\right)}$"
      ],
      "text/plain": [
       "                                            (2*ν - 1)*p(x, y)                 \n",
       "------------------------------------------------------------------------------\n",
       "    / 2    /-h \\    2    /h\\     /d       \\|          /d       \\|      /d     \n",
       "2*G*|γ *ν*g|---| - γ *ν*g|-| - ν*|--(f(z))||  -h  + ν*|--(f(z))||  h + |--(f(z\n",
       "    |      \\ 2 /         \\2/     \\dz      /|z=---     \\dz      /|z=-   \\dz    \n",
       "    \\                                          2                   2          \n",
       "\n",
       "                           \n",
       "---------------------------\n",
       "  \\|        /d       \\|   \\\n",
       "))||  -h  - |--(f(z))||  h|\n",
       "  /|z=---   \\dz      /|z=-|\n",
       "       2                 2/"
      ]
     },
     "execution_count": 35,
     "metadata": {},
     "output_type": "execute_result"
    }
   ],
   "source": [
    "aux1 = σ_zz⁺ - σ_zz⁻ - p\n",
    "aux2 = aux1(diff(w, y, y) => -γ^2 * w - diff(w, x, x))\n",
    "aux3 = (1 - 2ν) / 2 / G * aux2 |> factor |> expand\n",
    "w_sol = solve(aux3, w)[1]"
   ]
  },
  {
   "cell_type": "markdown",
   "id": "39a170cb-5870-4fc3-9b56-970b3f6a9940",
   "metadata": {},
   "source": [
    "The above result is important, since it shows that $w$ is proportional to $p$. As a consequence, $p$ must be an eigenmode of the Laplace operator with Dirichlet boundary condition for the above solution to hold. If this condition on $p$ fails to hold, there exists no solution of the form [(DISPL-I)](eq-DISPL-I).\n",
    "\n",
    "In the remainder of this notebook, it is assumed that $p$ is indeed an eigenmode of $\\Delta$. The general case for $p$ will be discussed later **TODO: add reference**."
   ]
  },
  {
   "cell_type": "markdown",
   "id": "cac9513a-6685-4f26-a7ed-17abb1bda039",
   "metadata": {},
   "source": [
    "### Expression of the integration constants\n",
    "\n",
    "The values of the $F_i$ are in principle retrieved from plugging the general expressions of $f$ and $g$ into the following equations."
   ]
  },
  {
   "cell_type": "code",
   "execution_count": 36,
   "id": "f4cd39f7-5f80-4ed2-972c-040701647d0c",
   "metadata": {},
   "outputs": [
    {
     "data": {
      "text/latex": [
       "$\\left[ \\begin{array}{r}f{\\left(- \\frac{h}{2} \\right)} - \\left. \\frac{d}{d z} g{\\left(z \\right)} \\right|_{\\substack{ z=- \\frac{h}{2} }}\\\\f{\\left(\\frac{h}{2} \\right)} - \\left. \\frac{d}{d z} g{\\left(z \\right)} \\right|_{\\substack{ z=\\frac{h}{2} }}\\\\γ^{2} ν \\left(g{\\left(- \\frac{h}{2} \\right)} + g{\\left(\\frac{h}{2} \\right)}\\right) - \\left(ν - 1\\right) \\left(\\left. \\frac{d}{d z} f{\\left(z \\right)} \\right|_{\\substack{ z=- \\frac{h}{2} }} + \\left. \\frac{d}{d z} f{\\left(z \\right)} \\right|_{\\substack{ z=\\frac{h}{2} }}\\right)\\end{array} \\right]$\n"
      ],
      "text/plain": [
       "3-element Vector{Sym}:\n",
       "                                                                f(-h/2) - Subs(Derivative(g(z), z), z, -h/2)\n",
       "                                                                  f(h/2) - Subs(Derivative(g(z), z), z, h/2)\n",
       " γ^2*ν*(g(-h/2) + g(h/2)) - (ν - 1)*(Subs(Derivative(f(z), z), z, -h/2) + Subs(Derivative(f(z), z), z, h/2))"
      ]
     },
     "execution_count": 36,
     "metadata": {},
     "output_type": "execute_result"
    }
   ],
   "source": [
    "bcs"
   ]
  },
  {
   "cell_type": "markdown",
   "id": "cd7e7141-cc4c-4bef-a0a6-54bce5f72422",
   "metadata": {},
   "source": [
    "This however leads to complex `SymPy` substitutions. It is more practical *from scratch*."
   ]
  },
  {
   "cell_type": "code",
   "execution_count": 37,
   "id": "dec58d41-5d0e-43cb-88b5-17b828056aa2",
   "metadata": {},
   "outputs": [],
   "source": [
    "u_sol = subs.(u, f => f_sol, g => g_sol, G_sol...) .|> factor\n",
    "ϵ_sol = sym_grad(u_sol)\n",
    "σ_sol = hooke(ϵ_sol) .|> expand;"
   ]
  },
  {
   "cell_type": "markdown",
   "id": "951def00-845b-4158-81f5-eded9d1f398d",
   "metadata": {},
   "source": [
    "It will be convenient to introduce the following dimensionless quantity\n",
    "\n",
    "\\begin{equation*}\n",
    "\\eta = \\frac{\\gamma h}{2}\n",
    "\\end{equation*}"
   ]
  },
  {
   "cell_type": "code",
   "execution_count": 38,
   "id": "f722aa5d-8385-410a-9e3a-9217bb76ee18",
   "metadata": {},
   "outputs": [],
   "source": [
    "@syms η;"
   ]
  },
  {
   "cell_type": "code",
   "execution_count": 39,
   "id": "c13d8b75-4218-4b4c-ad04-79ff54d136cb",
   "metadata": {
    "tags": []
   },
   "outputs": [
    {
     "data": {
      "text/latex": [
       "$\\left[ \\begin{array}{r}- F₄ η \\sinh{\\left(η \\right)} + 2 F₄ ν \\cosh{\\left(η \\right)} - 2 F₄ \\cosh{\\left(η \\right)} - \\cosh{\\left(η \\right)}\\\\F₂ \\sinh{\\left(η \\right)} + F₃ \\left(η \\cosh{\\left(η \\right)} - 2 ν \\sinh{\\left(η \\right)} + 2 \\sinh{\\left(η \\right)}\\right)\\end{array} \\right]$\n"
      ],
      "text/plain": [
       "2-element Vector{Sym}:\n",
       " -F₄*η*sinh(η) + 2*F₄*ν*cosh(η) - 2*F₄*cosh(η) - cosh(η)\n",
       "   F₂*sinh(η) + F₃*(η*cosh(η) - 2*ν*sinh(η) + 2*sinh(η))"
      ]
     },
     "execution_count": 39,
     "metadata": {},
     "output_type": "execute_result"
    }
   ],
   "source": [
    "bc1 = σ_sol[1, 3](z => -h/2) / (G * diff(w, x)) |> subs(γ * h => 2η) .|> factor\n",
    "bc2 =  σ_sol[1, 3](z => h/2) / (G * diff(w, x)) |> subs(γ * h => 2η) .|> factor\n",
    "\n",
    "bcs2 = [factor(bc1 + bc2) / (-4), (factor(bc1 - bc2) / (-4)).collect([F₂, F₃], func=factor)]"
   ]
  },
  {
   "cell_type": "code",
   "execution_count": 40,
   "id": "82cd492e-e094-4b13-a495-fa075fed50c4",
   "metadata": {},
   "outputs": [],
   "source": [
    "σ_zz⁺ = σ_sol[3, 3](z => h/2, γ * h => 2η)\n",
    "σ_zz⁻ = σ_sol[3, 3](z => -h/2, γ * h => 2η);"
   ]
  },
  {
   "cell_type": "code",
   "execution_count": 41,
   "id": "1127bbf0-6186-45a1-872c-6d2f4b580b15",
   "metadata": {},
   "outputs": [
    {
     "data": {
      "text/latex": [
       "$F₂ \\cosh{\\left(η \\right)} + F₃ \\left(η \\sinh{\\left(η \\right)} - 2 ν \\cosh{\\left(η \\right)} + \\cosh{\\left(η \\right)}\\right)$"
      ],
      "text/plain": [
       "F₂*cosh(η) + F₃*(η*sinh(η) - 2*ν*cosh(η) + cosh(η))"
      ]
     },
     "execution_count": 41,
     "metadata": {},
     "output_type": "execute_result"
    }
   ],
   "source": [
    "aux1 = σ_zz⁺ + σ_zz⁻\n",
    "aux2 = aux1(diff(w, y, y) => -γ^2 * w - diff(w, x, x)) |> factor\n",
    "aux3 = aux2 * ((1 - 2ν) / (2G * w)) |> factor |> subs(γ * h => 2η) |> factor\n",
    "aux4 = aux3 / (2γ * (1 - 2ν)) |> factor\n",
    "bc = aux4.collect([F₂, F₃], func=factor)"
   ]
  },
  {
   "cell_type": "markdown",
   "id": "89789441-6185-4717-8212-6fd821fcdad5",
   "metadata": {},
   "source": [
    "We get the following equations for $F_2$, $F_3$ and $F_4$."
   ]
  },
  {
   "cell_type": "code",
   "execution_count": 42,
   "id": "52c31485-86de-4f80-9e38-c4f4c129265a",
   "metadata": {},
   "outputs": [
    {
     "data": {
      "text/latex": [
       "$\\left[ \\begin{array}{r}- F₄ η \\sinh{\\left(η \\right)} + 2 F₄ ν \\cosh{\\left(η \\right)} - 2 F₄ \\cosh{\\left(η \\right)} - \\cosh{\\left(η \\right)}\\\\F₂ \\sinh{\\left(η \\right)} + F₃ \\left(η \\cosh{\\left(η \\right)} - 2 ν \\sinh{\\left(η \\right)} + 2 \\sinh{\\left(η \\right)}\\right)\\\\F₂ \\cosh{\\left(η \\right)} + F₃ \\left(η \\sinh{\\left(η \\right)} - 2 ν \\cosh{\\left(η \\right)} + \\cosh{\\left(η \\right)}\\right)\\end{array} \\right]$\n"
      ],
      "text/plain": [
       "3-element Vector{Sym}:\n",
       " -F₄*η*sinh(η) + 2*F₄*ν*cosh(η) - 2*F₄*cosh(η) - cosh(η)\n",
       "   F₂*sinh(η) + F₃*(η*cosh(η) - 2*ν*sinh(η) + 2*sinh(η))\n",
       "     F₂*cosh(η) + F₃*(η*sinh(η) - 2*ν*cosh(η) + cosh(η))"
      ]
     },
     "execution_count": 42,
     "metadata": {},
     "output_type": "execute_result"
    }
   ],
   "source": [
    "push!(bcs2, bc)"
   ]
  },
  {
   "cell_type": "markdown",
   "id": "3393f92e-5206-4676-af63-3ef4993ede29",
   "metadata": {},
   "source": [
    "From which it results that $F_2 = F_3 = 0$, while $F_4$ is given by the following expression."
   ]
  },
  {
   "cell_type": "code",
   "execution_count": 43,
   "id": "e8745e59-5fc3-47e2-bf7a-797623cfc0de",
   "metadata": {},
   "outputs": [
    {
     "data": {
      "text/plain": [
       "Dict{Any, Any} with 3 entries:\n",
       "  F₄ => cosh(η)/(-η*sinh(η) + 2*ν*cosh(η) - 2*cosh(η))\n",
       "  F₂ => 0\n",
       "  F₃ => 0"
      ]
     },
     "execution_count": 43,
     "metadata": {},
     "output_type": "execute_result"
    }
   ],
   "source": [
    "F_sol = solve(bcs2, [F₂, F₃, F₄])"
   ]
  },
  {
   "cell_type": "code",
   "execution_count": 44,
   "id": "a38df7cd-e5f3-4940-bf97-72122f9f4cba",
   "metadata": {},
   "outputs": [
    {
     "data": {
      "text/latex": [
       "$- \\frac{\\cosh{\\left(η \\right)}}{η \\sinh{\\left(η \\right)} - 2 ν \\cosh{\\left(η \\right)} + 2 \\cosh{\\left(η \\right)}}$"
      ],
      "text/plain": [
       "             -cosh(η)              \n",
       "-----------------------------------\n",
       "η*sinh(η) - 2*ν*cosh(η) + 2*cosh(η)"
      ]
     },
     "execution_count": 44,
     "metadata": {},
     "output_type": "execute_result"
    }
   ],
   "source": [
    "F₄_sol = solve(bcs2[1], F₄)[1]"
   ]
  },
  {
   "cell_type": "markdown",
   "id": "dd74d9b4-5571-4a98-8285-125331f94375",
   "metadata": {},
   "source": [
    "We also find the relation between $w$ and $p$."
   ]
  },
  {
   "cell_type": "code",
   "execution_count": 45,
   "id": "6a62f01f-9107-4efc-a034-42d9d681e755",
   "metadata": {},
   "outputs": [
    {
     "data": {
      "text/latex": [
       "$- \\frac{\\left(η \\sinh{\\left(η \\right)} - 2 ν \\cosh{\\left(η \\right)} + 2 \\cosh{\\left(η \\right)}\\right) p{\\left(x,y \\right)}}{4 G γ \\left(η - \\frac{\\sinh{\\left(2 η \\right)}}{2}\\right)}$"
      ],
      "text/plain": [
       "-(η*sinh(η) - 2*ν*cosh(η) + 2*cosh(η))*p(x, y) \n",
       "-----------------------------------------------\n",
       "                   /    sinh(2*η)\\             \n",
       "             4*G*γ*|η - ---------|             \n",
       "                   \\        2    /             "
      ]
     },
     "execution_count": 45,
     "metadata": {},
     "output_type": "execute_result"
    }
   ],
   "source": [
    "aux1 = σ_zz⁺ - σ_zz⁻ - p\n",
    "aux2 = aux1(diff(w, y, y) => -γ^2 * w - diff(w, x, x)) |> factor\n",
    "aux3 = aux2(F₄ => F_sol[F₄], γ * h => 2η) |> factor |> subs(cosh(η)^2 => 1 + sinh(η)^2) |> factor\n",
    "w_sol = solve(aux3, w)[1]"
   ]
  },
  {
   "cell_type": "markdown",
   "id": "7d1715d6-2ec7-4507-88b6-2aab9a98e33e",
   "metadata": {},
   "source": [
    "And the problem is completely solved!\n",
    "\n",
    "Note that, when $\\eta\\to 0$, we get an approximate expression of $w$"
   ]
  },
  {
   "cell_type": "code",
   "execution_count": 46,
   "id": "79c10609-62d8-4401-a2e5-19cdd7b8acf2",
   "metadata": {},
   "outputs": [
    {
     "data": {
      "text/latex": [
       "$- \\frac{3 \\left(ν - 1\\right) p{\\left(x,y \\right)}}{4 G γ η^{3}}$"
      ],
      "text/plain": [
       "-3*(ν - 1)*p(x, y) \n",
       "-------------------\n",
       "             3     \n",
       "      4*G*γ*η      "
      ]
     },
     "execution_count": 46,
     "metadata": {},
     "output_type": "execute_result"
    }
   ],
   "source": [
    "p = numerator(w_sol).series(η, 0, 1).removeO()\n",
    "q = denominator(w_sol).series(η, 0, 4).removeO()\n",
    "w_approx = p / q |> factor"
   ]
  }
 ],
 "metadata": {
  "kernelspec": {
   "display_name": "Julia 1.7.2",
   "language": "julia",
   "name": "julia-1.7"
  },
  "language_info": {
   "file_extension": ".jl",
   "mimetype": "application/julia",
   "name": "julia",
   "version": "1.7.2"
  },
  "toc-autonumbering": false,
  "toc-showcode": false,
  "toc-showmarkdowntxt": false,
  "toc-showtags": false
 },
 "nbformat": 4,
 "nbformat_minor": 5
}
